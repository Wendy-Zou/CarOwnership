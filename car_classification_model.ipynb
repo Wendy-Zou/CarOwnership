{
 "cells": [
  {
   "cell_type": "markdown",
   "metadata": {
    "id": "0xzC0JnbnDKe"
   },
   "source": [
    "Importing the necessary libraries"
   ]
  },
  {
   "cell_type": "code",
   "execution_count": 1,
   "metadata": {
    "id": "hOkZaSvDmJua"
   },
   "outputs": [],
   "source": [
    "import pandas as pd\n",
    "import matplotlib as plt\n",
    "import numpy as np\n",
    "import matplotlib.pyplot as plt\n",
    "from sklearn.metrics import confusion_matrix\n",
    "import pickle\n",
    "import seaborn as sns"
   ]
  },
  {
   "cell_type": "code",
   "execution_count": 2,
   "metadata": {
    "id": "b81AK9msmQe5"
   },
   "outputs": [],
   "source": [
    "card = pd.read_csv('Credit_card.csv')"
   ]
  },
  {
   "cell_type": "code",
   "execution_count": 3,
   "metadata": {
    "scrolled": true
   },
   "outputs": [
    {
     "data": {
      "text/html": [
       "<div>\n",
       "<style scoped>\n",
       "    .dataframe tbody tr th:only-of-type {\n",
       "        vertical-align: middle;\n",
       "    }\n",
       "\n",
       "    .dataframe tbody tr th {\n",
       "        vertical-align: top;\n",
       "    }\n",
       "\n",
       "    .dataframe thead th {\n",
       "        text-align: right;\n",
       "    }\n",
       "</style>\n",
       "<table border=\"1\" class=\"dataframe\">\n",
       "  <thead>\n",
       "    <tr style=\"text-align: right;\">\n",
       "      <th></th>\n",
       "      <th>Ind_ID</th>\n",
       "      <th>GENDER</th>\n",
       "      <th>Car_Owner</th>\n",
       "      <th>Propert_Owner</th>\n",
       "      <th>CHILDREN</th>\n",
       "      <th>Annual_income</th>\n",
       "      <th>Type_Income</th>\n",
       "      <th>EDUCATION</th>\n",
       "      <th>Marital_status</th>\n",
       "      <th>Housing_type</th>\n",
       "      <th>Birthday_count</th>\n",
       "      <th>Employed_days</th>\n",
       "      <th>Mobile_phone</th>\n",
       "      <th>Work_Phone</th>\n",
       "      <th>Phone</th>\n",
       "      <th>EMAIL_ID</th>\n",
       "      <th>Type_Occupation</th>\n",
       "      <th>Family_Members</th>\n",
       "    </tr>\n",
       "  </thead>\n",
       "  <tbody>\n",
       "    <tr>\n",
       "      <th>0</th>\n",
       "      <td>5008827</td>\n",
       "      <td>M</td>\n",
       "      <td>Y</td>\n",
       "      <td>Y</td>\n",
       "      <td>0</td>\n",
       "      <td>180000.0</td>\n",
       "      <td>Pensioner</td>\n",
       "      <td>Higher education</td>\n",
       "      <td>Married</td>\n",
       "      <td>House / apartment</td>\n",
       "      <td>-18772.0</td>\n",
       "      <td>365243</td>\n",
       "      <td>1</td>\n",
       "      <td>0</td>\n",
       "      <td>0</td>\n",
       "      <td>0</td>\n",
       "      <td>NaN</td>\n",
       "      <td>2</td>\n",
       "    </tr>\n",
       "    <tr>\n",
       "      <th>1</th>\n",
       "      <td>5009744</td>\n",
       "      <td>F</td>\n",
       "      <td>Y</td>\n",
       "      <td>N</td>\n",
       "      <td>0</td>\n",
       "      <td>315000.0</td>\n",
       "      <td>Commercial associate</td>\n",
       "      <td>Higher education</td>\n",
       "      <td>Married</td>\n",
       "      <td>House / apartment</td>\n",
       "      <td>-13557.0</td>\n",
       "      <td>-586</td>\n",
       "      <td>1</td>\n",
       "      <td>1</td>\n",
       "      <td>1</td>\n",
       "      <td>0</td>\n",
       "      <td>NaN</td>\n",
       "      <td>2</td>\n",
       "    </tr>\n",
       "    <tr>\n",
       "      <th>2</th>\n",
       "      <td>5009746</td>\n",
       "      <td>F</td>\n",
       "      <td>Y</td>\n",
       "      <td>N</td>\n",
       "      <td>0</td>\n",
       "      <td>315000.0</td>\n",
       "      <td>Commercial associate</td>\n",
       "      <td>Higher education</td>\n",
       "      <td>Married</td>\n",
       "      <td>House / apartment</td>\n",
       "      <td>NaN</td>\n",
       "      <td>-586</td>\n",
       "      <td>1</td>\n",
       "      <td>1</td>\n",
       "      <td>1</td>\n",
       "      <td>0</td>\n",
       "      <td>NaN</td>\n",
       "      <td>2</td>\n",
       "    </tr>\n",
       "    <tr>\n",
       "      <th>3</th>\n",
       "      <td>5009749</td>\n",
       "      <td>F</td>\n",
       "      <td>Y</td>\n",
       "      <td>N</td>\n",
       "      <td>0</td>\n",
       "      <td>NaN</td>\n",
       "      <td>Commercial associate</td>\n",
       "      <td>Higher education</td>\n",
       "      <td>Married</td>\n",
       "      <td>House / apartment</td>\n",
       "      <td>-13557.0</td>\n",
       "      <td>-586</td>\n",
       "      <td>1</td>\n",
       "      <td>1</td>\n",
       "      <td>1</td>\n",
       "      <td>0</td>\n",
       "      <td>NaN</td>\n",
       "      <td>2</td>\n",
       "    </tr>\n",
       "    <tr>\n",
       "      <th>4</th>\n",
       "      <td>5009752</td>\n",
       "      <td>F</td>\n",
       "      <td>Y</td>\n",
       "      <td>N</td>\n",
       "      <td>0</td>\n",
       "      <td>315000.0</td>\n",
       "      <td>Commercial associate</td>\n",
       "      <td>Higher education</td>\n",
       "      <td>Married</td>\n",
       "      <td>House / apartment</td>\n",
       "      <td>-13557.0</td>\n",
       "      <td>-586</td>\n",
       "      <td>1</td>\n",
       "      <td>1</td>\n",
       "      <td>1</td>\n",
       "      <td>0</td>\n",
       "      <td>NaN</td>\n",
       "      <td>2</td>\n",
       "    </tr>\n",
       "    <tr>\n",
       "      <th>...</th>\n",
       "      <td>...</td>\n",
       "      <td>...</td>\n",
       "      <td>...</td>\n",
       "      <td>...</td>\n",
       "      <td>...</td>\n",
       "      <td>...</td>\n",
       "      <td>...</td>\n",
       "      <td>...</td>\n",
       "      <td>...</td>\n",
       "      <td>...</td>\n",
       "      <td>...</td>\n",
       "      <td>...</td>\n",
       "      <td>...</td>\n",
       "      <td>...</td>\n",
       "      <td>...</td>\n",
       "      <td>...</td>\n",
       "      <td>...</td>\n",
       "      <td>...</td>\n",
       "    </tr>\n",
       "    <tr>\n",
       "      <th>1543</th>\n",
       "      <td>5028645</td>\n",
       "      <td>F</td>\n",
       "      <td>N</td>\n",
       "      <td>Y</td>\n",
       "      <td>0</td>\n",
       "      <td>NaN</td>\n",
       "      <td>Commercial associate</td>\n",
       "      <td>Higher education</td>\n",
       "      <td>Married</td>\n",
       "      <td>House / apartment</td>\n",
       "      <td>-11957.0</td>\n",
       "      <td>-2182</td>\n",
       "      <td>1</td>\n",
       "      <td>0</td>\n",
       "      <td>0</td>\n",
       "      <td>0</td>\n",
       "      <td>Managers</td>\n",
       "      <td>2</td>\n",
       "    </tr>\n",
       "    <tr>\n",
       "      <th>1544</th>\n",
       "      <td>5023655</td>\n",
       "      <td>F</td>\n",
       "      <td>N</td>\n",
       "      <td>N</td>\n",
       "      <td>0</td>\n",
       "      <td>225000.0</td>\n",
       "      <td>Commercial associate</td>\n",
       "      <td>Incomplete higher</td>\n",
       "      <td>Single / not married</td>\n",
       "      <td>House / apartment</td>\n",
       "      <td>-10229.0</td>\n",
       "      <td>-1209</td>\n",
       "      <td>1</td>\n",
       "      <td>0</td>\n",
       "      <td>0</td>\n",
       "      <td>0</td>\n",
       "      <td>Accountants</td>\n",
       "      <td>1</td>\n",
       "    </tr>\n",
       "    <tr>\n",
       "      <th>1545</th>\n",
       "      <td>5115992</td>\n",
       "      <td>M</td>\n",
       "      <td>Y</td>\n",
       "      <td>Y</td>\n",
       "      <td>2</td>\n",
       "      <td>180000.0</td>\n",
       "      <td>Working</td>\n",
       "      <td>Higher education</td>\n",
       "      <td>Married</td>\n",
       "      <td>House / apartment</td>\n",
       "      <td>-13174.0</td>\n",
       "      <td>-2477</td>\n",
       "      <td>1</td>\n",
       "      <td>0</td>\n",
       "      <td>0</td>\n",
       "      <td>0</td>\n",
       "      <td>Managers</td>\n",
       "      <td>4</td>\n",
       "    </tr>\n",
       "    <tr>\n",
       "      <th>1546</th>\n",
       "      <td>5118219</td>\n",
       "      <td>M</td>\n",
       "      <td>Y</td>\n",
       "      <td>N</td>\n",
       "      <td>0</td>\n",
       "      <td>270000.0</td>\n",
       "      <td>Working</td>\n",
       "      <td>Secondary / secondary special</td>\n",
       "      <td>Civil marriage</td>\n",
       "      <td>House / apartment</td>\n",
       "      <td>-15292.0</td>\n",
       "      <td>-645</td>\n",
       "      <td>1</td>\n",
       "      <td>1</td>\n",
       "      <td>1</td>\n",
       "      <td>0</td>\n",
       "      <td>Drivers</td>\n",
       "      <td>2</td>\n",
       "    </tr>\n",
       "    <tr>\n",
       "      <th>1547</th>\n",
       "      <td>5053790</td>\n",
       "      <td>F</td>\n",
       "      <td>Y</td>\n",
       "      <td>Y</td>\n",
       "      <td>0</td>\n",
       "      <td>225000.0</td>\n",
       "      <td>Working</td>\n",
       "      <td>Higher education</td>\n",
       "      <td>Married</td>\n",
       "      <td>House / apartment</td>\n",
       "      <td>-16601.0</td>\n",
       "      <td>-2859</td>\n",
       "      <td>1</td>\n",
       "      <td>0</td>\n",
       "      <td>0</td>\n",
       "      <td>0</td>\n",
       "      <td>NaN</td>\n",
       "      <td>2</td>\n",
       "    </tr>\n",
       "  </tbody>\n",
       "</table>\n",
       "<p>1548 rows × 18 columns</p>\n",
       "</div>"
      ],
      "text/plain": [
       "       Ind_ID GENDER Car_Owner Propert_Owner  CHILDREN  Annual_income  \\\n",
       "0     5008827      M         Y             Y         0       180000.0   \n",
       "1     5009744      F         Y             N         0       315000.0   \n",
       "2     5009746      F         Y             N         0       315000.0   \n",
       "3     5009749      F         Y             N         0            NaN   \n",
       "4     5009752      F         Y             N         0       315000.0   \n",
       "...       ...    ...       ...           ...       ...            ...   \n",
       "1543  5028645      F         N             Y         0            NaN   \n",
       "1544  5023655      F         N             N         0       225000.0   \n",
       "1545  5115992      M         Y             Y         2       180000.0   \n",
       "1546  5118219      M         Y             N         0       270000.0   \n",
       "1547  5053790      F         Y             Y         0       225000.0   \n",
       "\n",
       "               Type_Income                      EDUCATION  \\\n",
       "0                Pensioner               Higher education   \n",
       "1     Commercial associate               Higher education   \n",
       "2     Commercial associate               Higher education   \n",
       "3     Commercial associate               Higher education   \n",
       "4     Commercial associate               Higher education   \n",
       "...                    ...                            ...   \n",
       "1543  Commercial associate               Higher education   \n",
       "1544  Commercial associate              Incomplete higher   \n",
       "1545               Working               Higher education   \n",
       "1546               Working  Secondary / secondary special   \n",
       "1547               Working               Higher education   \n",
       "\n",
       "            Marital_status       Housing_type  Birthday_count  Employed_days  \\\n",
       "0                  Married  House / apartment        -18772.0         365243   \n",
       "1                  Married  House / apartment        -13557.0           -586   \n",
       "2                  Married  House / apartment             NaN           -586   \n",
       "3                  Married  House / apartment        -13557.0           -586   \n",
       "4                  Married  House / apartment        -13557.0           -586   \n",
       "...                    ...                ...             ...            ...   \n",
       "1543               Married  House / apartment        -11957.0          -2182   \n",
       "1544  Single / not married  House / apartment        -10229.0          -1209   \n",
       "1545               Married  House / apartment        -13174.0          -2477   \n",
       "1546        Civil marriage  House / apartment        -15292.0           -645   \n",
       "1547               Married  House / apartment        -16601.0          -2859   \n",
       "\n",
       "      Mobile_phone  Work_Phone  Phone  EMAIL_ID Type_Occupation  \\\n",
       "0                1           0      0         0             NaN   \n",
       "1                1           1      1         0             NaN   \n",
       "2                1           1      1         0             NaN   \n",
       "3                1           1      1         0             NaN   \n",
       "4                1           1      1         0             NaN   \n",
       "...            ...         ...    ...       ...             ...   \n",
       "1543             1           0      0         0        Managers   \n",
       "1544             1           0      0         0     Accountants   \n",
       "1545             1           0      0         0        Managers   \n",
       "1546             1           1      1         0         Drivers   \n",
       "1547             1           0      0         0             NaN   \n",
       "\n",
       "      Family_Members  \n",
       "0                  2  \n",
       "1                  2  \n",
       "2                  2  \n",
       "3                  2  \n",
       "4                  2  \n",
       "...              ...  \n",
       "1543               2  \n",
       "1544               1  \n",
       "1545               4  \n",
       "1546               2  \n",
       "1547               2  \n",
       "\n",
       "[1548 rows x 18 columns]"
      ]
     },
     "execution_count": 3,
     "metadata": {},
     "output_type": "execute_result"
    }
   ],
   "source": [
    "card"
   ]
  },
  {
   "cell_type": "code",
   "execution_count": 4,
   "metadata": {},
   "outputs": [],
   "source": [
    "card.rename(columns={'Propert_Owner': 'Property_Owner'}, inplace=True)"
   ]
  },
  {
   "cell_type": "code",
   "execution_count": 5,
   "metadata": {
    "scrolled": true
   },
   "outputs": [
    {
     "data": {
      "text/plain": [
       "Ind_ID               0\n",
       "GENDER               7\n",
       "Car_Owner            0\n",
       "Property_Owner       0\n",
       "CHILDREN             0\n",
       "Annual_income       23\n",
       "Type_Income          0\n",
       "EDUCATION            0\n",
       "Marital_status       0\n",
       "Housing_type         0\n",
       "Birthday_count      22\n",
       "Employed_days        0\n",
       "Mobile_phone         0\n",
       "Work_Phone           0\n",
       "Phone                0\n",
       "EMAIL_ID             0\n",
       "Type_Occupation    488\n",
       "Family_Members       0\n",
       "dtype: int64"
      ]
     },
     "execution_count": 5,
     "metadata": {},
     "output_type": "execute_result"
    }
   ],
   "source": [
    "card.isna().sum()"
   ]
  },
  {
   "cell_type": "code",
   "execution_count": 6,
   "metadata": {
    "id": "aodAFxvFmxVN"
   },
   "outputs": [],
   "source": [
    "card.drop(columns=['Ind_ID'], inplace=True)\n",
    "card.drop(columns=['Type_Occupation'], inplace=True) # there are 17 different occupations\n",
    "card.dropna(inplace=True)"
   ]
  },
  {
   "cell_type": "code",
   "execution_count": 7,
   "metadata": {},
   "outputs": [
    {
     "data": {
      "text/plain": [
       "GENDER            0\n",
       "Car_Owner         0\n",
       "Property_Owner    0\n",
       "CHILDREN          0\n",
       "Annual_income     0\n",
       "Type_Income       0\n",
       "EDUCATION         0\n",
       "Marital_status    0\n",
       "Housing_type      0\n",
       "Birthday_count    0\n",
       "Employed_days     0\n",
       "Mobile_phone      0\n",
       "Work_Phone        0\n",
       "Phone             0\n",
       "EMAIL_ID          0\n",
       "Family_Members    0\n",
       "dtype: int64"
      ]
     },
     "execution_count": 7,
     "metadata": {},
     "output_type": "execute_result"
    }
   ],
   "source": [
    "card.isna().sum()"
   ]
  },
  {
   "cell_type": "markdown",
   "metadata": {
    "id": "owOSJBxunZh4"
   },
   "source": [
    "Looking at the shape of our dataset - It has 150 rows and 4 columns\n",
    "\n",
    "\n"
   ]
  },
  {
   "cell_type": "code",
   "execution_count": 8,
   "metadata": {
    "colab": {
     "base_uri": "https://localhost:8080/"
    },
    "id": "mRRMtYXQnUCq",
    "outputId": "4b991034-e910-409d-ced5-64f4570a30df"
   },
   "outputs": [
    {
     "data": {
      "text/plain": [
       "(1496, 16)"
      ]
     },
     "execution_count": 8,
     "metadata": {},
     "output_type": "execute_result"
    }
   ],
   "source": [
    "card.shape"
   ]
  },
  {
   "cell_type": "code",
   "execution_count": 9,
   "metadata": {
    "colab": {
     "base_uri": "https://localhost:8080/"
    },
    "id": "pP_TXmU_nd7m",
    "outputId": "97e65f21-0663-4f5a-e15e-d33774844819"
   },
   "outputs": [
    {
     "name": "stdout",
     "output_type": "stream",
     "text": [
      "<class 'pandas.core.frame.DataFrame'>\n",
      "Int64Index: 1496 entries, 0 to 1547\n",
      "Data columns (total 16 columns):\n",
      " #   Column          Non-Null Count  Dtype  \n",
      "---  ------          --------------  -----  \n",
      " 0   GENDER          1496 non-null   object \n",
      " 1   Car_Owner       1496 non-null   object \n",
      " 2   Property_Owner  1496 non-null   object \n",
      " 3   CHILDREN        1496 non-null   int64  \n",
      " 4   Annual_income   1496 non-null   float64\n",
      " 5   Type_Income     1496 non-null   object \n",
      " 6   EDUCATION       1496 non-null   object \n",
      " 7   Marital_status  1496 non-null   object \n",
      " 8   Housing_type    1496 non-null   object \n",
      " 9   Birthday_count  1496 non-null   float64\n",
      " 10  Employed_days   1496 non-null   int64  \n",
      " 11  Mobile_phone    1496 non-null   int64  \n",
      " 12  Work_Phone      1496 non-null   int64  \n",
      " 13  Phone           1496 non-null   int64  \n",
      " 14  EMAIL_ID        1496 non-null   int64  \n",
      " 15  Family_Members  1496 non-null   int64  \n",
      "dtypes: float64(2), int64(7), object(7)\n",
      "memory usage: 198.7+ KB\n"
     ]
    }
   ],
   "source": [
    "card.info()"
   ]
  },
  {
   "cell_type": "markdown",
   "metadata": {},
   "source": [
    "**Visualizations**"
   ]
  },
  {
   "cell_type": "code",
   "execution_count": 10,
   "metadata": {},
   "outputs": [
    {
     "data": {
      "image/png": "[encoded data removed]",
      "text/plain": [
       "<Figure size 1080x504 with 1 Axes>"
      ]
     },
     "metadata": {
      "needs_background": "light"
     },
     "output_type": "display_data"
    }
   ],
   "source": [
    "plt.figure(figsize=(15,7))\n",
    "house = card['Housing_type'].value_counts().index\n",
    "sns.barplot(x = house, y = card['Housing_type'].value_counts().values)\n",
    "plt.xlabel('Housing Type')\n",
    "plt.ylabel('Count')\n",
    "plt.title('Housing Type Count')\n",
    "plt.xticks(rotation=90)\n",
    "plt.show()"
   ]
  },
  {
   "cell_type": "code",
   "execution_count": 11,
   "metadata": {},
   "outputs": [
    {
     "data": {
      "image/png": "[encoded data removed]",
      "text/plain": [
       "<Figure size 1080x504 with 1 Axes>"
      ]
     },
     "metadata": {},
     "output_type": "display_data"
    }
   ],
   "source": [
    "plt.figure(figsize=(15, 7))\n",
    "\n",
    "marital_counts = card['Marital_status'].value_counts()\n",
    "plt.pie(marital_counts, labels=marital_counts.index, autopct='%1.2f%%', startangle=90)\n",
    "\n",
    "plt.title('Marital Status Distribution')\n",
    "plt.show()"
   ]
  },
  {
   "cell_type": "code",
   "execution_count": 12,
   "metadata": {},
   "outputs": [
    {
     "data": {
      "image/png": "[encoded data removed]",
      "text/plain": [
       "<Figure size 1080x504 with 1 Axes>"
      ]
     },
     "metadata": {
      "needs_background": "light"
     },
     "output_type": "display_data"
    }
   ],
   "source": [
    "plt.figure(figsize=(15, 7))\n",
    "education_counts = card['EDUCATION'].value_counts()\n",
    "sns.barplot(x=education_counts.index, y=education_counts.values)\n",
    "plt.xlabel('Education Level')\n",
    "plt.ylabel('Count')\n",
    "plt.title('Education Level Count')\n",
    "plt.xticks(rotation = 90)\n",
    "plt.show()"
   ]
  },
  {
   "cell_type": "code",
   "execution_count": 13,
   "metadata": {},
   "outputs": [
    {
     "data": {
      "image/png": "[encoded data removed]",
      "text/plain": [
       "<Figure size 720x360 with 1 Axes>"
      ]
     },
     "metadata": {
      "needs_background": "light"
     },
     "output_type": "display_data"
    }
   ],
   "source": [
    "plt.figure(figsize=(10, 5))\n",
    "sns.histplot(card['Type_Income'])\n",
    "plt.xlabel('Income Type')\n",
    "plt.ylabel('Count')\n",
    "plt.title('Income Type Count')\n",
    "plt.xticks(rotation = 90)\n",
    "plt.show()"
   ]
  },
  {
   "cell_type": "markdown",
   "metadata": {},
   "source": [
    "**One Hot Encoding**"
   ]
  },
  {
   "cell_type": "code",
   "execution_count": 14,
   "metadata": {},
   "outputs": [],
   "source": [
    "#1) Gender\n",
    "gender_encoding = pd.get_dummies(card['GENDER'], drop_first=True)"
   ]
  },
  {
   "cell_type": "code",
   "execution_count": 15,
   "metadata": {},
   "outputs": [],
   "source": [
    "card = card.drop('GENDER', axis=1)"
   ]
  },
  {
   "cell_type": "code",
   "execution_count": 16,
   "metadata": {},
   "outputs": [],
   "source": [
    "card = card.join(gender_encoding)"
   ]
  },
  {
   "cell_type": "code",
   "execution_count": 17,
   "metadata": {},
   "outputs": [],
   "source": [
    "#2) Own Property\n",
    "property_encoding = pd.get_dummies(card['Property_Owner'], drop_first=True)\n",
    "card = card.drop('Property_Owner', axis=1)\n",
    "card = card.join(property_encoding)"
   ]
  },
  {
   "cell_type": "code",
   "execution_count": 18,
   "metadata": {},
   "outputs": [],
   "source": [
    "card.rename(columns={'M': 'Male'}, inplace=True)\n",
    "card.rename(columns={'Y': 'Property_Owner'}, inplace=True)"
   ]
  },
  {
   "cell_type": "code",
   "execution_count": 19,
   "metadata": {},
   "outputs": [],
   "source": [
    "#3) Income Type: Commercial associate, Pensioner, State servant,Working\n",
    "income_type_encoding = pd.get_dummies(card['Type_Income'])\n",
    "card = card.drop('Type_Income', axis = 1)\n",
    "card = card.join(income_type_encoding)"
   ]
  },
  {
   "cell_type": "code",
   "execution_count": 20,
   "metadata": {},
   "outputs": [],
   "source": [
    "#4) Education\n",
    "education_encoding = pd.get_dummies(card['EDUCATION'])\n",
    "card = card.drop('EDUCATION', axis = 1)\n",
    "card = card.join(education_encoding)"
   ]
  },
  {
   "cell_type": "code",
   "execution_count": 21,
   "metadata": {},
   "outputs": [],
   "source": [
    "#5) Marital Status\n",
    "martial_encoding = pd.get_dummies(card['Marital_status'])\n",
    "card = card.drop('Marital_status', axis = 1)\n",
    "card = card.join(martial_encoding)"
   ]
  },
  {
   "cell_type": "code",
   "execution_count": 22,
   "metadata": {},
   "outputs": [],
   "source": [
    "#6) Housing Type\n",
    "housing_encoding = pd.get_dummies(card['Housing_type'])\n",
    "card = card.drop('Housing_type', axis = 1)\n",
    "card = card.join(housing_encoding)"
   ]
  },
  {
   "cell_type": "code",
   "execution_count": 23,
   "metadata": {},
   "outputs": [
    {
     "data": {
      "text/html": [
       "<div>\n",
       "<style scoped>\n",
       "    .dataframe tbody tr th:only-of-type {\n",
       "        vertical-align: middle;\n",
       "    }\n",
       "\n",
       "    .dataframe tbody tr th {\n",
       "        vertical-align: top;\n",
       "    }\n",
       "\n",
       "    .dataframe thead th {\n",
       "        text-align: right;\n",
       "    }\n",
       "</style>\n",
       "<table border=\"1\" class=\"dataframe\">\n",
       "  <thead>\n",
       "    <tr style=\"text-align: right;\">\n",
       "      <th></th>\n",
       "      <th>Car_Owner</th>\n",
       "      <th>CHILDREN</th>\n",
       "      <th>Annual_income</th>\n",
       "      <th>Birthday_count</th>\n",
       "      <th>Employed_days</th>\n",
       "      <th>Mobile_phone</th>\n",
       "      <th>Work_Phone</th>\n",
       "      <th>Phone</th>\n",
       "      <th>EMAIL_ID</th>\n",
       "      <th>Family_Members</th>\n",
       "      <th>...</th>\n",
       "      <th>Married</th>\n",
       "      <th>Separated</th>\n",
       "      <th>Single / not married</th>\n",
       "      <th>Widow</th>\n",
       "      <th>Co-op apartment</th>\n",
       "      <th>House / apartment</th>\n",
       "      <th>Municipal apartment</th>\n",
       "      <th>Office apartment</th>\n",
       "      <th>Rented apartment</th>\n",
       "      <th>With parents</th>\n",
       "    </tr>\n",
       "  </thead>\n",
       "  <tbody>\n",
       "    <tr>\n",
       "      <th>0</th>\n",
       "      <td>Y</td>\n",
       "      <td>0</td>\n",
       "      <td>180000.0</td>\n",
       "      <td>-18772.0</td>\n",
       "      <td>365243</td>\n",
       "      <td>1</td>\n",
       "      <td>0</td>\n",
       "      <td>0</td>\n",
       "      <td>0</td>\n",
       "      <td>2</td>\n",
       "      <td>...</td>\n",
       "      <td>1</td>\n",
       "      <td>0</td>\n",
       "      <td>0</td>\n",
       "      <td>0</td>\n",
       "      <td>0</td>\n",
       "      <td>1</td>\n",
       "      <td>0</td>\n",
       "      <td>0</td>\n",
       "      <td>0</td>\n",
       "      <td>0</td>\n",
       "    </tr>\n",
       "    <tr>\n",
       "      <th>1</th>\n",
       "      <td>Y</td>\n",
       "      <td>0</td>\n",
       "      <td>315000.0</td>\n",
       "      <td>-13557.0</td>\n",
       "      <td>-586</td>\n",
       "      <td>1</td>\n",
       "      <td>1</td>\n",
       "      <td>1</td>\n",
       "      <td>0</td>\n",
       "      <td>2</td>\n",
       "      <td>...</td>\n",
       "      <td>1</td>\n",
       "      <td>0</td>\n",
       "      <td>0</td>\n",
       "      <td>0</td>\n",
       "      <td>0</td>\n",
       "      <td>1</td>\n",
       "      <td>0</td>\n",
       "      <td>0</td>\n",
       "      <td>0</td>\n",
       "      <td>0</td>\n",
       "    </tr>\n",
       "    <tr>\n",
       "      <th>4</th>\n",
       "      <td>Y</td>\n",
       "      <td>0</td>\n",
       "      <td>315000.0</td>\n",
       "      <td>-13557.0</td>\n",
       "      <td>-586</td>\n",
       "      <td>1</td>\n",
       "      <td>1</td>\n",
       "      <td>1</td>\n",
       "      <td>0</td>\n",
       "      <td>2</td>\n",
       "      <td>...</td>\n",
       "      <td>1</td>\n",
       "      <td>0</td>\n",
       "      <td>0</td>\n",
       "      <td>0</td>\n",
       "      <td>0</td>\n",
       "      <td>1</td>\n",
       "      <td>0</td>\n",
       "      <td>0</td>\n",
       "      <td>0</td>\n",
       "      <td>0</td>\n",
       "    </tr>\n",
       "    <tr>\n",
       "      <th>6</th>\n",
       "      <td>Y</td>\n",
       "      <td>0</td>\n",
       "      <td>315000.0</td>\n",
       "      <td>-13557.0</td>\n",
       "      <td>-586</td>\n",
       "      <td>1</td>\n",
       "      <td>1</td>\n",
       "      <td>1</td>\n",
       "      <td>0</td>\n",
       "      <td>2</td>\n",
       "      <td>...</td>\n",
       "      <td>1</td>\n",
       "      <td>0</td>\n",
       "      <td>0</td>\n",
       "      <td>0</td>\n",
       "      <td>0</td>\n",
       "      <td>1</td>\n",
       "      <td>0</td>\n",
       "      <td>0</td>\n",
       "      <td>0</td>\n",
       "      <td>0</td>\n",
       "    </tr>\n",
       "    <tr>\n",
       "      <th>7</th>\n",
       "      <td>N</td>\n",
       "      <td>0</td>\n",
       "      <td>180000.0</td>\n",
       "      <td>-22134.0</td>\n",
       "      <td>365243</td>\n",
       "      <td>1</td>\n",
       "      <td>0</td>\n",
       "      <td>0</td>\n",
       "      <td>0</td>\n",
       "      <td>2</td>\n",
       "      <td>...</td>\n",
       "      <td>1</td>\n",
       "      <td>0</td>\n",
       "      <td>0</td>\n",
       "      <td>0</td>\n",
       "      <td>0</td>\n",
       "      <td>1</td>\n",
       "      <td>0</td>\n",
       "      <td>0</td>\n",
       "      <td>0</td>\n",
       "      <td>0</td>\n",
       "    </tr>\n",
       "    <tr>\n",
       "      <th>...</th>\n",
       "      <td>...</td>\n",
       "      <td>...</td>\n",
       "      <td>...</td>\n",
       "      <td>...</td>\n",
       "      <td>...</td>\n",
       "      <td>...</td>\n",
       "      <td>...</td>\n",
       "      <td>...</td>\n",
       "      <td>...</td>\n",
       "      <td>...</td>\n",
       "      <td>...</td>\n",
       "      <td>...</td>\n",
       "      <td>...</td>\n",
       "      <td>...</td>\n",
       "      <td>...</td>\n",
       "      <td>...</td>\n",
       "      <td>...</td>\n",
       "      <td>...</td>\n",
       "      <td>...</td>\n",
       "      <td>...</td>\n",
       "      <td>...</td>\n",
       "    </tr>\n",
       "    <tr>\n",
       "      <th>1542</th>\n",
       "      <td>Y</td>\n",
       "      <td>1</td>\n",
       "      <td>360000.0</td>\n",
       "      <td>-11294.0</td>\n",
       "      <td>-3536</td>\n",
       "      <td>1</td>\n",
       "      <td>0</td>\n",
       "      <td>1</td>\n",
       "      <td>0</td>\n",
       "      <td>3</td>\n",
       "      <td>...</td>\n",
       "      <td>1</td>\n",
       "      <td>0</td>\n",
       "      <td>0</td>\n",
       "      <td>0</td>\n",
       "      <td>0</td>\n",
       "      <td>1</td>\n",
       "      <td>0</td>\n",
       "      <td>0</td>\n",
       "      <td>0</td>\n",
       "      <td>0</td>\n",
       "    </tr>\n",
       "    <tr>\n",
       "      <th>1544</th>\n",
       "      <td>N</td>\n",
       "      <td>0</td>\n",
       "      <td>225000.0</td>\n",
       "      <td>-10229.0</td>\n",
       "      <td>-1209</td>\n",
       "      <td>1</td>\n",
       "      <td>0</td>\n",
       "      <td>0</td>\n",
       "      <td>0</td>\n",
       "      <td>1</td>\n",
       "      <td>...</td>\n",
       "      <td>0</td>\n",
       "      <td>0</td>\n",
       "      <td>1</td>\n",
       "      <td>0</td>\n",
       "      <td>0</td>\n",
       "      <td>1</td>\n",
       "      <td>0</td>\n",
       "      <td>0</td>\n",
       "      <td>0</td>\n",
       "      <td>0</td>\n",
       "    </tr>\n",
       "    <tr>\n",
       "      <th>1545</th>\n",
       "      <td>Y</td>\n",
       "      <td>2</td>\n",
       "      <td>180000.0</td>\n",
       "      <td>-13174.0</td>\n",
       "      <td>-2477</td>\n",
       "      <td>1</td>\n",
       "      <td>0</td>\n",
       "      <td>0</td>\n",
       "      <td>0</td>\n",
       "      <td>4</td>\n",
       "      <td>...</td>\n",
       "      <td>1</td>\n",
       "      <td>0</td>\n",
       "      <td>0</td>\n",
       "      <td>0</td>\n",
       "      <td>0</td>\n",
       "      <td>1</td>\n",
       "      <td>0</td>\n",
       "      <td>0</td>\n",
       "      <td>0</td>\n",
       "      <td>0</td>\n",
       "    </tr>\n",
       "    <tr>\n",
       "      <th>1546</th>\n",
       "      <td>Y</td>\n",
       "      <td>0</td>\n",
       "      <td>270000.0</td>\n",
       "      <td>-15292.0</td>\n",
       "      <td>-645</td>\n",
       "      <td>1</td>\n",
       "      <td>1</td>\n",
       "      <td>1</td>\n",
       "      <td>0</td>\n",
       "      <td>2</td>\n",
       "      <td>...</td>\n",
       "      <td>0</td>\n",
       "      <td>0</td>\n",
       "      <td>0</td>\n",
       "      <td>0</td>\n",
       "      <td>0</td>\n",
       "      <td>1</td>\n",
       "      <td>0</td>\n",
       "      <td>0</td>\n",
       "      <td>0</td>\n",
       "      <td>0</td>\n",
       "    </tr>\n",
       "    <tr>\n",
       "      <th>1547</th>\n",
       "      <td>Y</td>\n",
       "      <td>0</td>\n",
       "      <td>225000.0</td>\n",
       "      <td>-16601.0</td>\n",
       "      <td>-2859</td>\n",
       "      <td>1</td>\n",
       "      <td>0</td>\n",
       "      <td>0</td>\n",
       "      <td>0</td>\n",
       "      <td>2</td>\n",
       "      <td>...</td>\n",
       "      <td>1</td>\n",
       "      <td>0</td>\n",
       "      <td>0</td>\n",
       "      <td>0</td>\n",
       "      <td>0</td>\n",
       "      <td>1</td>\n",
       "      <td>0</td>\n",
       "      <td>0</td>\n",
       "      <td>0</td>\n",
       "      <td>0</td>\n",
       "    </tr>\n",
       "  </tbody>\n",
       "</table>\n",
       "<p>1496 rows × 32 columns</p>\n",
       "</div>"
      ],
      "text/plain": [
       "     Car_Owner  CHILDREN  Annual_income  Birthday_count  Employed_days  \\\n",
       "0            Y         0       180000.0        -18772.0         365243   \n",
       "1            Y         0       315000.0        -13557.0           -586   \n",
       "4            Y         0       315000.0        -13557.0           -586   \n",
       "6            Y         0       315000.0        -13557.0           -586   \n",
       "7            N         0       180000.0        -22134.0         365243   \n",
       "...        ...       ...            ...             ...            ...   \n",
       "1542         Y         1       360000.0        -11294.0          -3536   \n",
       "1544         N         0       225000.0        -10229.0          -1209   \n",
       "1545         Y         2       180000.0        -13174.0          -2477   \n",
       "1546         Y         0       270000.0        -15292.0           -645   \n",
       "1547         Y         0       225000.0        -16601.0          -2859   \n",
       "\n",
       "      Mobile_phone  Work_Phone  Phone  EMAIL_ID  Family_Members  ...  Married  \\\n",
       "0                1           0      0         0               2  ...        1   \n",
       "1                1           1      1         0               2  ...        1   \n",
       "4                1           1      1         0               2  ...        1   \n",
       "6                1           1      1         0               2  ...        1   \n",
       "7                1           0      0         0               2  ...        1   \n",
       "...            ...         ...    ...       ...             ...  ...      ...   \n",
       "1542             1           0      1         0               3  ...        1   \n",
       "1544             1           0      0         0               1  ...        0   \n",
       "1545             1           0      0         0               4  ...        1   \n",
       "1546             1           1      1         0               2  ...        0   \n",
       "1547             1           0      0         0               2  ...        1   \n",
       "\n",
       "      Separated  Single / not married  Widow  Co-op apartment  \\\n",
       "0             0                     0      0                0   \n",
       "1             0                     0      0                0   \n",
       "4             0                     0      0                0   \n",
       "6             0                     0      0                0   \n",
       "7             0                     0      0                0   \n",
       "...         ...                   ...    ...              ...   \n",
       "1542          0                     0      0                0   \n",
       "1544          0                     1      0                0   \n",
       "1545          0                     0      0                0   \n",
       "1546          0                     0      0                0   \n",
       "1547          0                     0      0                0   \n",
       "\n",
       "      House / apartment  Municipal apartment  Office apartment  \\\n",
       "0                     1                    0                 0   \n",
       "1                     1                    0                 0   \n",
       "4                     1                    0                 0   \n",
       "6                     1                    0                 0   \n",
       "7                     1                    0                 0   \n",
       "...                 ...                  ...               ...   \n",
       "1542                  1                    0                 0   \n",
       "1544                  1                    0                 0   \n",
       "1545                  1                    0                 0   \n",
       "1546                  1                    0                 0   \n",
       "1547                  1                    0                 0   \n",
       "\n",
       "      Rented apartment  With parents  \n",
       "0                    0             0  \n",
       "1                    0             0  \n",
       "4                    0             0  \n",
       "6                    0             0  \n",
       "7                    0             0  \n",
       "...                ...           ...  \n",
       "1542                 0             0  \n",
       "1544                 0             0  \n",
       "1545                 0             0  \n",
       "1546                 0             0  \n",
       "1547                 0             0  \n",
       "\n",
       "[1496 rows x 32 columns]"
      ]
     },
     "execution_count": 23,
     "metadata": {},
     "output_type": "execute_result"
    }
   ],
   "source": [
    "card"
   ]
  },
  {
   "cell_type": "code",
   "execution_count": 24,
   "metadata": {},
   "outputs": [
    {
     "name": "stdout",
     "output_type": "stream",
     "text": [
      "<class 'pandas.core.frame.DataFrame'>\n",
      "Int64Index: 1496 entries, 0 to 1547\n",
      "Data columns (total 32 columns):\n",
      " #   Column                         Non-Null Count  Dtype  \n",
      "---  ------                         --------------  -----  \n",
      " 0   Car_Owner                      1496 non-null   object \n",
      " 1   CHILDREN                       1496 non-null   int64  \n",
      " 2   Annual_income                  1496 non-null   float64\n",
      " 3   Birthday_count                 1496 non-null   float64\n",
      " 4   Employed_days                  1496 non-null   int64  \n",
      " 5   Mobile_phone                   1496 non-null   int64  \n",
      " 6   Work_Phone                     1496 non-null   int64  \n",
      " 7   Phone                          1496 non-null   int64  \n",
      " 8   EMAIL_ID                       1496 non-null   int64  \n",
      " 9   Family_Members                 1496 non-null   int64  \n",
      " 10  Male                           1496 non-null   uint8  \n",
      " 11  Property_Owner                 1496 non-null   uint8  \n",
      " 12  Commercial associate           1496 non-null   uint8  \n",
      " 13  Pensioner                      1496 non-null   uint8  \n",
      " 14  State servant                  1496 non-null   uint8  \n",
      " 15  Working                        1496 non-null   uint8  \n",
      " 16  Academic degree                1496 non-null   uint8  \n",
      " 17  Higher education               1496 non-null   uint8  \n",
      " 18  Incomplete higher              1496 non-null   uint8  \n",
      " 19  Lower secondary                1496 non-null   uint8  \n",
      " 20  Secondary / secondary special  1496 non-null   uint8  \n",
      " 21  Civil marriage                 1496 non-null   uint8  \n",
      " 22  Married                        1496 non-null   uint8  \n",
      " 23  Separated                      1496 non-null   uint8  \n",
      " 24  Single / not married           1496 non-null   uint8  \n",
      " 25  Widow                          1496 non-null   uint8  \n",
      " 26  Co-op apartment                1496 non-null   uint8  \n",
      " 27  House / apartment              1496 non-null   uint8  \n",
      " 28  Municipal apartment            1496 non-null   uint8  \n",
      " 29  Office apartment               1496 non-null   uint8  \n",
      " 30  Rented apartment               1496 non-null   uint8  \n",
      " 31  With parents                   1496 non-null   uint8  \n",
      "dtypes: float64(2), int64(7), object(1), uint8(22)\n",
      "memory usage: 193.0+ KB\n"
     ]
    }
   ],
   "source": [
    "card.info()"
   ]
  },
  {
   "cell_type": "code",
   "execution_count": 25,
   "metadata": {},
   "outputs": [
    {
     "data": {
      "text/plain": [
       "['Car_Owner',\n",
       " 'CHILDREN',\n",
       " 'Annual_income',\n",
       " 'Birthday_count',\n",
       " 'Employed_days',\n",
       " 'Mobile_phone',\n",
       " 'Work_Phone',\n",
       " 'Phone',\n",
       " 'EMAIL_ID',\n",
       " 'Family_Members',\n",
       " 'Male',\n",
       " 'Property_Owner',\n",
       " 'Commercial associate',\n",
       " 'Pensioner',\n",
       " 'State servant',\n",
       " 'Working',\n",
       " 'Academic degree',\n",
       " 'Higher education',\n",
       " 'Incomplete higher',\n",
       " 'Lower secondary',\n",
       " 'Secondary / secondary special',\n",
       " 'Civil marriage',\n",
       " 'Married',\n",
       " 'Separated',\n",
       " 'Single / not married',\n",
       " 'Widow',\n",
       " 'Co-op apartment',\n",
       " 'House / apartment',\n",
       " 'Municipal apartment',\n",
       " 'Office apartment',\n",
       " 'Rented apartment',\n",
       " 'With parents']"
      ]
     },
     "execution_count": 25,
     "metadata": {},
     "output_type": "execute_result"
    }
   ],
   "source": [
    "# getting list of column names\n",
    "\n",
    "card.columns.values.tolist()"
   ]
  },
  {
   "cell_type": "markdown",
   "metadata": {
    "id": "Az2rqx-SoThZ"
   },
   "source": [
    "Separating the features from the labels"
   ]
  },
  {
   "cell_type": "code",
   "execution_count": 26,
   "metadata": {},
   "outputs": [],
   "source": [
    "#.values is used to extract the dataframe values to a numpy array\n",
    "\n",
    "# specifing all the columns you want is equivalent to dropping the columns you don't want \n",
    "X = card.drop(['Car_Owner'], axis = 1).values\n",
    "y = card[['Car_Owner']].values"
   ]
  },
  {
   "cell_type": "markdown",
   "metadata": {
    "id": "sGdmOTWutQNR"
   },
   "source": [
    "Splitting the Dataset into Training and Test Sets\n"
   ]
  },
  {
   "cell_type": "code",
   "execution_count": 27,
   "metadata": {
    "id": "TXCqXBp5tPJa"
   },
   "outputs": [],
   "source": [
    "from sklearn.model_selection import train_test_split\n",
    "\n",
    "X_train, X_test, y_train, y_test = train_test_split(X, y, test_size = 0.30, random_state = 0)"
   ]
  },
  {
   "cell_type": "code",
   "execution_count": 28,
   "metadata": {},
   "outputs": [
    {
     "data": {
      "text/plain": [
       "array([[ 0.0000e+00,  1.7325e+05, -1.6273e+04, ...,  0.0000e+00,\n",
       "         0.0000e+00,  0.0000e+00],\n",
       "       [ 0.0000e+00,  1.8000e+05, -9.8100e+03, ...,  0.0000e+00,\n",
       "         0.0000e+00,  0.0000e+00],\n",
       "       [ 1.0000e+00,  2.3175e+05, -1.4247e+04, ...,  0.0000e+00,\n",
       "         0.0000e+00,  0.0000e+00],\n",
       "       ...,\n",
       "       [ 0.0000e+00,  1.3500e+05, -1.3211e+04, ...,  0.0000e+00,\n",
       "         0.0000e+00,  0.0000e+00],\n",
       "       [ 1.0000e+00,  2.2500e+05, -1.0909e+04, ...,  0.0000e+00,\n",
       "         0.0000e+00,  0.0000e+00],\n",
       "       [ 0.0000e+00,  9.9000e+04, -2.1030e+04, ...,  0.0000e+00,\n",
       "         0.0000e+00,  0.0000e+00]])"
      ]
     },
     "execution_count": 28,
     "metadata": {},
     "output_type": "execute_result"
    }
   ],
   "source": [
    "X_train"
   ]
  },
  {
   "cell_type": "markdown",
   "metadata": {
    "id": "wNwKPlo2tCSu"
   },
   "source": [
    "Feature Scaling - One method to rescale data is to standardize it.\n",
    "\n",
    "To standardize a dataset means to scale all of the values in the dataset such that the mean value is 0 and the standard deviation is 1.\n"
   ]
  },
  {
   "cell_type": "code",
   "execution_count": 29,
   "metadata": {
    "id": "ErlFTijiotXd"
   },
   "outputs": [],
   "source": [
    "from sklearn.preprocessing import StandardScaler\n",
    "\n",
    "sc = StandardScaler()\n",
    "X_train = sc.fit_transform(X_train)\n",
    "X_test = sc.transform(X_test)"
   ]
  },
  {
   "cell_type": "markdown",
   "metadata": {
    "id": "yx7yteQit7xr"
   },
   "source": [
    "Fitting (Training) the model to the training dataset"
   ]
  },
  {
   "cell_type": "code",
   "execution_count": 30,
   "metadata": {
    "colab": {
     "base_uri": "https://localhost:8080/",
     "height": 74
    },
    "id": "TWvCANN4tU0b",
    "outputId": "7e086526-ae82-4785-b7ce-2378c2057e9c"
   },
   "outputs": [],
   "source": [
    "from sklearn.neighbors import KNeighborsClassifier\n",
    "from sklearn.model_selection import train_test_split # recall #f1\n",
    "from sklearn.metrics import classification_report\n",
    "from sklearn.model_selection import KFold\n",
    "from sklearn.model_selection import StratifiedKFold\n",
    "from sklearn.model_selection import cross_val_score\n",
    "from sklearn.naive_bayes import GaussianNB # naive bayes\n",
    "from sklearn import svm\n",
    "\n",
    "knn = KNeighborsClassifier(n_neighbors=5)\n",
    "knn.fit(X_train, y_train.ravel())\n",
    "\n",
    "gnb = GaussianNB()\n",
    "gnb.fit(X_train, y_train.ravel())\n",
    "\n",
    "linear = svm.SVC(kernel='linear', C=1, decision_function_shape='ovo').fit(X_train, y_train.ravel())\n",
    "rbf = svm.SVC(kernel='rbf', gamma=1, C=1, decision_function_shape='ovo').fit(X_train, y_train.ravel())\n",
    "poly = svm.SVC(kernel='poly', degree=3, C=1, decision_function_shape='ovo').fit(X_train, y_train.ravel())\n",
    "sig = svm.SVC(kernel='sigmoid', C=1, decision_function_shape='ovo').fit(X_train, y_train.ravel())"
   ]
  },
  {
   "cell_type": "markdown",
   "metadata": {
    "id": "KPi6sk6xDtzY"
   },
   "source": [
    "Performing 5-Fold Cross Validation for KNN"
   ]
  },
  {
   "cell_type": "code",
   "execution_count": 31,
   "metadata": {
    "colab": {
     "base_uri": "https://localhost:8080/"
    },
    "id": "GsXaQiXKDTSk",
    "outputId": "c22a7506-8204-44f1-ec0b-487a1de8e2bc"
   },
   "outputs": [
    {
     "name": "stdout",
     "output_type": "stream",
     "text": [
      " Average accuracy:0.6399088630667578\n"
     ]
    }
   ],
   "source": [
    "k = 5 # 5 splits\n",
    "kf = KFold(n_splits=k)\n",
    "\n",
    "result = cross_val_score(knn, X_train, y_train.ravel(), cv = kf, scoring='accuracy')\n",
    "\n",
    "print(f' Average accuracy:{result.mean()}')"
   ]
  },
  {
   "cell_type": "markdown",
   "metadata": {},
   "source": [
    "Performing 5-Fold Cross Validation for GNB"
   ]
  },
  {
   "cell_type": "code",
   "execution_count": 32,
   "metadata": {},
   "outputs": [
    {
     "name": "stdout",
     "output_type": "stream",
     "text": [
      " Avg accuracy:0.39727956254272045\n"
     ]
    }
   ],
   "source": [
    "result = cross_val_score(gnb, X_train, y_train.ravel(), cv = kf, scoring='accuracy')\n",
    "\n",
    "print(f' Avg accuracy:{result.mean()}')"
   ]
  },
  {
   "cell_type": "markdown",
   "metadata": {},
   "source": [
    "Performing 5-Fold Cross Validation on a Linear SVM"
   ]
  },
  {
   "cell_type": "code",
   "execution_count": 33,
   "metadata": {},
   "outputs": [
    {
     "name": "stdout",
     "output_type": "stream",
     "text": [
      " Avg accuracy:0.6944087491455913\n"
     ]
    }
   ],
   "source": [
    "result = cross_val_score(linear, X_train, y_train.ravel(), cv = kf, scoring='accuracy')\n",
    "\n",
    "print(f' Avg accuracy:{result.mean()}')"
   ]
  },
  {
   "cell_type": "markdown",
   "metadata": {},
   "source": [
    "Performing 5 Fold Cross Validation on a RBF SVM"
   ]
  },
  {
   "cell_type": "code",
   "execution_count": 34,
   "metadata": {},
   "outputs": [
    {
     "name": "stdout",
     "output_type": "stream",
     "text": [
      " Avg accuracy:0.660952380952381\n"
     ]
    }
   ],
   "source": [
    "result = cross_val_score(rbf, X_train, y_train.ravel(), cv = kf, scoring='accuracy')\n",
    "\n",
    "print(f' Avg accuracy:{result.mean()}')"
   ]
  },
  {
   "cell_type": "markdown",
   "metadata": {},
   "source": [
    "Performing 5 fold Cross Validation on Poly SVM"
   ]
  },
  {
   "cell_type": "code",
   "execution_count": 35,
   "metadata": {},
   "outputs": [
    {
     "name": "stdout",
     "output_type": "stream",
     "text": [
      " Avg accuracy:0.6504625199362042\n"
     ]
    }
   ],
   "source": [
    "result = cross_val_score(poly, X_train, y_train.ravel(), cv = kf, scoring='accuracy')\n",
    "\n",
    "print(f' Avg accuracy:{result.mean()}')"
   ]
  },
  {
   "cell_type": "markdown",
   "metadata": {},
   "source": [
    "Performing 5 Fold Cross Validation on Sigmoid SVM"
   ]
  },
  {
   "cell_type": "code",
   "execution_count": 36,
   "metadata": {},
   "outputs": [
    {
     "name": "stdout",
     "output_type": "stream",
     "text": [
      " Avg accuracy: 0.688671679197995\n"
     ]
    }
   ],
   "source": [
    "result = cross_val_score(sig, X_train, y_train.ravel(), cv = kf, scoring='accuracy')\n",
    "print(f' Avg accuracy: {result.mean()}')"
   ]
  },
  {
   "cell_type": "markdown",
   "metadata": {
    "id": "zJlF9RAeDyHW"
   },
   "source": [
    "Performing Stratified 10-Fold Cross Validation for KNN"
   ]
  },
  {
   "cell_type": "code",
   "execution_count": 37,
   "metadata": {
    "id": "nglMIi2AD2GI"
   },
   "outputs": [
    {
     "name": "stdout",
     "output_type": "stream",
     "text": [
      " Avg accuracy: 0.6446794871794872\n"
     ]
    }
   ],
   "source": [
    "from sklearn.model_selection import StratifiedKFold\n",
    "skf = StratifiedKFold(n_splits=10, shuffle=True, random_state=32)\n",
    "\n",
    "result = cross_val_score(knn, X_train, y_train.ravel(), cv = skf, scoring='accuracy')\n",
    "\n",
    "print(f' Avg accuracy: {result.mean()}')"
   ]
  },
  {
   "cell_type": "markdown",
   "metadata": {},
   "source": [
    "Performing Stratified 10-Fold Cross Validation for GNB"
   ]
  },
  {
   "cell_type": "code",
   "execution_count": 38,
   "metadata": {},
   "outputs": [
    {
     "name": "stdout",
     "output_type": "stream",
     "text": [
      " Avg accuracy:0.3972710622710623\n"
     ]
    }
   ],
   "source": [
    "result = cross_val_score(gnb, X_train, y_train.ravel(), cv = skf, scoring='accuracy')\n",
    "\n",
    "print(f' Avg accuracy:{result.mean()}')"
   ]
  },
  {
   "cell_type": "code",
   "execution_count": 39,
   "metadata": {},
   "outputs": [
    {
     "name": "stdout",
     "output_type": "stream",
     "text": [
      " Avg accuracy:0.6972435897435897\n"
     ]
    }
   ],
   "source": [
    "# Performing Stratified 10-Fold Cross validation on Linear SVM\n",
    "\n",
    "result = cross_val_score(linear, X_train, y_train.ravel(), cv = skf, scoring='accuracy')\n",
    "\n",
    "print(f' Avg accuracy:{result.mean()}')"
   ]
  },
  {
   "cell_type": "code",
   "execution_count": 40,
   "metadata": {},
   "outputs": [
    {
     "name": "stdout",
     "output_type": "stream",
     "text": [
      " Avg accuracy:0.6572252747252747\n"
     ]
    }
   ],
   "source": [
    "# Performing Stratified 10-Fold Cross validation on RBF SVM\n",
    "\n",
    "result = cross_val_score(rbf, X_train, y_train.ravel(), cv = skf, scoring='accuracy')\n",
    "\n",
    "print(f' Avg accuracy:{result.mean()}')"
   ]
  },
  {
   "cell_type": "code",
   "execution_count": 41,
   "metadata": {},
   "outputs": [
    {
     "name": "stdout",
     "output_type": "stream",
     "text": [
      " Avg accuracy:0.646584249084249\n"
     ]
    }
   ],
   "source": [
    "# Stratfied KFold on Poly SVM\n",
    "\n",
    "result = cross_val_score(poly, X_train, y_train.ravel(), cv = skf, scoring='accuracy')\n",
    "\n",
    "print(f' Avg accuracy:{result.mean()}')"
   ]
  },
  {
   "cell_type": "code",
   "execution_count": 42,
   "metadata": {},
   "outputs": [
    {
     "name": "stdout",
     "output_type": "stream",
     "text": [
      " Avg accuracy:0.6772069597069597\n"
     ]
    }
   ],
   "source": [
    "# Stratified KFold on Sigmoid SVM\n",
    "\n",
    "result = cross_val_score(sig, X_train, y_train.ravel(), cv = skf, scoring='accuracy')\n",
    "\n",
    "print(f' Avg accuracy:{result.mean()}')"
   ]
  },
  {
   "cell_type": "markdown",
   "metadata": {
    "id": "4QTkQjp-t_cA"
   },
   "source": [
    "Using the model to make predictions on the test dataset"
   ]
  },
  {
   "cell_type": "code",
   "execution_count": 43,
   "metadata": {
    "id": "q5VaS4TltNh9"
   },
   "outputs": [],
   "source": [
    "# KNN: Predicting the Test set results\n",
    "\n",
    "y_pred_knn = knn.predict(X_test)"
   ]
  },
  {
   "cell_type": "code",
   "execution_count": 44,
   "metadata": {},
   "outputs": [],
   "source": [
    "# GNB - Using the model to make predictions on the test dataset\n",
    "\n",
    "y_pred_gnb = gnb.predict(X_test)"
   ]
  },
  {
   "cell_type": "code",
   "execution_count": 45,
   "metadata": {},
   "outputs": [
    {
     "name": "stdout",
     "output_type": "stream",
     "text": [
      "              precision    recall  f1-score   support\n",
      "\n",
      "           N       0.67      0.77      0.72       259\n",
      "           Y       0.61      0.48      0.54       190\n",
      "\n",
      "    accuracy                           0.65       449\n",
      "   macro avg       0.64      0.63      0.63       449\n",
      "weighted avg       0.64      0.65      0.64       449\n",
      "\n"
     ]
    }
   ],
   "source": [
    "# KNN - Classification Report\n",
    "from sklearn.metrics import classification_report\n",
    "\n",
    "print(classification_report(y_test, y_pred_knn))"
   ]
  },
  {
   "cell_type": "code",
   "execution_count": 46,
   "metadata": {},
   "outputs": [
    {
     "name": "stdout",
     "output_type": "stream",
     "text": [
      "              precision    recall  f1-score   support\n",
      "\n",
      "           N       1.00      0.02      0.03       259\n",
      "           Y       0.43      1.00      0.60       190\n",
      "\n",
      "    accuracy                           0.43       449\n",
      "   macro avg       0.71      0.51      0.31       449\n",
      "weighted avg       0.76      0.43      0.27       449\n",
      "\n"
     ]
    }
   ],
   "source": [
    "# GNB - Classification Report\n",
    "print(classification_report(y_test, y_pred_gnb))"
   ]
  },
  {
   "cell_type": "code",
   "execution_count": 47,
   "metadata": {},
   "outputs": [
    {
     "name": "stdout",
     "output_type": "stream",
     "text": [
      "              precision    recall  f1-score   support\n",
      "\n",
      "           N       0.72      0.82      0.76       259\n",
      "           Y       0.69      0.56      0.62       190\n",
      "\n",
      "    accuracy                           0.71       449\n",
      "   macro avg       0.70      0.69      0.69       449\n",
      "weighted avg       0.71      0.71      0.70       449\n",
      "\n"
     ]
    }
   ],
   "source": [
    "# Linear SVM Classification Report\n",
    "svm_linear_pred = linear.predict(X_test)\n",
    "\n",
    "print(classification_report(y_test, svm_linear_pred))"
   ]
  },
  {
   "cell_type": "code",
   "execution_count": 48,
   "metadata": {},
   "outputs": [
    {
     "name": "stdout",
     "output_type": "stream",
     "text": [
      "              precision    recall  f1-score   support\n",
      "\n",
      "           N       0.64      0.90      0.75       259\n",
      "           Y       0.69      0.31      0.42       190\n",
      "\n",
      "    accuracy                           0.65       449\n",
      "   macro avg       0.66      0.60      0.59       449\n",
      "weighted avg       0.66      0.65      0.61       449\n",
      "\n"
     ]
    }
   ],
   "source": [
    "# Poly SVM Classification Report\n",
    "svm_poly_pred = poly.predict(X_test)\n",
    "\n",
    "print(classification_report(y_test, svm_poly_pred))"
   ]
  },
  {
   "cell_type": "code",
   "execution_count": 49,
   "metadata": {},
   "outputs": [
    {
     "name": "stdout",
     "output_type": "stream",
     "text": [
      "              precision    recall  f1-score   support\n",
      "\n",
      "           N       0.68      0.83      0.75       259\n",
      "           Y       0.66      0.47      0.55       190\n",
      "\n",
      "    accuracy                           0.67       449\n",
      "   macro avg       0.67      0.65      0.65       449\n",
      "weighted avg       0.67      0.67      0.66       449\n",
      "\n"
     ]
    }
   ],
   "source": [
    "# Sig SVM Classification Report\n",
    "svm_sig_pred = sig.predict(X_test)\n",
    "print(classification_report(y_test, svm_sig_pred))"
   ]
  },
  {
   "cell_type": "code",
   "execution_count": 50,
   "metadata": {},
   "outputs": [
    {
     "name": "stdout",
     "output_type": "stream",
     "text": [
      "              precision    recall  f1-score   support\n",
      "\n",
      "           N       0.63      0.90      0.74       259\n",
      "           Y       0.68      0.29      0.41       190\n",
      "\n",
      "    accuracy                           0.64       449\n",
      "   macro avg       0.66      0.59      0.57       449\n",
      "weighted avg       0.65      0.64      0.60       449\n",
      "\n"
     ]
    }
   ],
   "source": [
    "# RBF SVM Classification Report\n",
    "svm_rbf_pred = rbf.predict(X_test)\n",
    "print(classification_report(y_test, svm_rbf_pred))"
   ]
  },
  {
   "cell_type": "markdown",
   "metadata": {
    "id": "fS1Qc9fmES6T"
   },
   "source": [
    "How does the value of accuracy change in relation to K?"
   ]
  },
  {
   "cell_type": "code",
   "execution_count": 51,
   "metadata": {
    "colab": {
     "base_uri": "https://localhost:8080/",
     "height": 472
    },
    "id": "pxRHT9jUEYYs",
    "outputId": "cb5361c1-89ee-4dcf-9213-de712315b7ae"
   },
   "outputs": [
    {
     "data": {
      "image/png": "[encoded data removed]",
      "text/plain": [
       "<Figure size 432x288 with 1 Axes>"
      ]
     },
     "metadata": {
      "needs_background": "light"
     },
     "output_type": "display_data"
    },
    {
     "name": "stdout",
     "output_type": "stream",
     "text": [
      " Average accuracy:0.649501025290499\n"
     ]
    }
   ],
   "source": [
    "from sklearn.metrics import accuracy_score\n",
    "accuracy = []\n",
    "\n",
    "for i in range(1,11):\n",
    "    knn = KNeighborsClassifier(n_neighbors=i)\n",
    "    knn.fit(X_train, y_train.ravel())\n",
    "    y_pred_knn = knn.predict(X_test)\n",
    "    accuracy.append(accuracy_score(y_test, y_pred_knn.ravel()))\n",
    "plt.plot(list(range(1,11)), accuracy, color='blue', linestyle='dashed', marker='x')\n",
    "plt.xlabel('k value')\n",
    "plt.ylabel('accuracy')\n",
    "plt.title('k value vs accuracy')\n",
    "plt.show()\n",
    "\n",
    "\n",
    "k = 5 # 5 splits\n",
    "kf = KFold(n_splits=k)\n",
    "\n",
    "#for other scoring parameters see here https://scikit-learn.org/stable/modules/model_evaluation.html\n",
    "result = cross_val_score(knn, X_train, y_train.ravel(), cv = kf, scoring='accuracy')\n",
    "\n",
    "print(f' Average accuracy:{result.mean()}')"
   ]
  },
  {
   "cell_type": "code",
   "execution_count": 52,
   "metadata": {},
   "outputs": [],
   "source": [
    "from sklearn.tree import DecisionTreeClassifier\n",
    "from sklearn.ensemble import RandomForestClassifier"
   ]
  },
  {
   "cell_type": "code",
   "execution_count": 53,
   "metadata": {},
   "outputs": [
    {
     "data": {
      "text/plain": [
       "DecisionTreeClassifier()"
      ]
     },
     "execution_count": 53,
     "metadata": {},
     "output_type": "execute_result"
    }
   ],
   "source": [
    "# Training a Decision Tree classifier\n",
    "\n",
    "dt = DecisionTreeClassifier()\n",
    "dt.fit(X_train, y_train)"
   ]
  },
  {
   "cell_type": "code",
   "execution_count": 54,
   "metadata": {},
   "outputs": [],
   "source": [
    "# Decision Tree - Making Predictions\n",
    "y_pred_dt = dt.predict(X_test)"
   ]
  },
  {
   "cell_type": "code",
   "execution_count": 55,
   "metadata": {},
   "outputs": [
    {
     "name": "stdout",
     "output_type": "stream",
     "text": [
      "              precision    recall  f1-score   support\n",
      "\n",
      "    positive       0.74      0.72      0.73       259\n",
      "    negative       0.63      0.66      0.64       190\n",
      "\n",
      "    accuracy                           0.69       449\n",
      "   macro avg       0.69      0.69      0.69       449\n",
      "weighted avg       0.69      0.69      0.69       449\n",
      "\n"
     ]
    }
   ],
   "source": [
    "# Decision Tree - Generating Classification Report\n",
    "print(classification_report(y_test, y_pred_dt, target_names = ['positive', 'negative']))"
   ]
  },
  {
   "cell_type": "code",
   "execution_count": 56,
   "metadata": {},
   "outputs": [
    {
     "data": {
      "text/plain": [
       "RandomForestClassifier(n_estimators=10, random_state=1)"
      ]
     },
     "execution_count": 56,
     "metadata": {},
     "output_type": "execute_result"
    }
   ],
   "source": [
    "# Training the Random Forest Classifier\n",
    "rf = RandomForestClassifier(n_estimators=10, criterion='gini', random_state=1)\n",
    "rf.fit(X_train, y_train.ravel())  # Use y_train.ravel() to ensure it's a flattened array\n"
   ]
  },
  {
   "cell_type": "code",
   "execution_count": 57,
   "metadata": {},
   "outputs": [
    {
     "name": "stdout",
     "output_type": "stream",
     "text": [
      "              precision    recall  f1-score   support\n",
      "\n",
      "           N       0.70      0.86      0.77       259\n",
      "           Y       0.72      0.51      0.59       190\n",
      "\n",
      "    accuracy                           0.71       449\n",
      "   macro avg       0.71      0.68      0.68       449\n",
      "weighted avg       0.71      0.71      0.70       449\n",
      "\n"
     ]
    }
   ],
   "source": [
    "# Random Forest - Making Predictions and Generating Classification Report\n",
    "y_pred_rf = rf.predict(X_test)\n",
    "\n",
    "print(classification_report(y_test, y_pred_rf))"
   ]
  },
  {
   "cell_type": "code",
   "execution_count": 58,
   "metadata": {},
   "outputs": [
    {
     "data": {
      "image/png": "[encoded data removed]",
      "text/plain": [
       "<Figure size 1440x216 with 1 Axes>"
      ]
     },
     "metadata": {
      "needs_background": "light"
     },
     "output_type": "display_data"
    }
   ],
   "source": [
    "# Models\n",
    "X = ['KNN', 'GNB', 'Linear', 'Poly', 'RBF', 'Sig', 'DT', 'RF']\n",
    "\n",
    "# Collect this information from the classification reports and store them in lists\n",
    "accuracy = [0.63, 0.43, 0.71, 0.65, 0.64, 0.67, 0.69, 0.71]\n",
    "precision = [0.63, 0.76, 0.71, 0.66, 0.65, 0.67, 0.69, 0.71]\n",
    "recall = [0.63, 0.43, 0.71, 0.65, 0.64, 0.67, 0.69, 0.71]\n",
    "f1 = [0.61, 0.27, 0.70, 0.61, 0.60, 0.66, 0.69, 0.70]\n",
    "\n",
    "# Number of bars\n",
    "n_bars = len(X)\n",
    "\n",
    "# Number of groups of bars (accuracy, precision, recall, f1)\n",
    "n_groups = 4\n",
    "\n",
    "# Total width for each group of bars\n",
    "total_width = 0.8\n",
    "\n",
    "# Width for each individual bar within a group\n",
    "bar_width = total_width / n_groups\n",
    "\n",
    "# Calculate the center positions for each group of bars\n",
    "X_axis = np.arange(len(X))\n",
    "\n",
    "# Calculate the left positions for each individual bar within a group\n",
    "left_positions = X_axis - (total_width - bar_width) / 2\n",
    "\n",
    "# Setting the size of the graph\n",
    "plt.rcParams[\"figure.figsize\"] = (20, 3)\n",
    "\n",
    "# Plotting the bars for each metric using the left positions and respective data\n",
    "plt.bar(left_positions, accuracy, bar_width, label='Accuracy')\n",
    "plt.bar(left_positions + bar_width, precision, bar_width, label='Precision')\n",
    "plt.bar(left_positions + bar_width * 2, recall, bar_width, label='Recall')\n",
    "plt.bar(left_positions + bar_width * 3, f1, bar_width, label='F1')\n",
    "\n",
    "# Setting the range of values for the X axis and labels\n",
    "plt.xticks(X_axis, X)\n",
    "plt.xlabel(\"Model\")\n",
    "plt.ylabel(\"Weighted Avg\")\n",
    "plt.title(\"Model vs Weighted Avg Of Various Metrics\")\n",
    "plt.legend(loc='upper right')\n",
    "\n",
    "plt.show()\n"
   ]
  },
  {
   "cell_type": "code",
   "execution_count": 59,
   "metadata": {
    "id": "O8ZR0M05vJCq"
   },
   "outputs": [],
   "source": [
    "import pickle\n",
    "# Save the trained model and the scaler to files\n",
    "with open('random_forest.pkl', 'wb') as f:\n",
    "    pickle.dump(rf, f)\n",
    "with open('scaler.pkl', 'wb') as f:\n",
    "    pickle.dump(sc, f)\n"
   ]
  }
 ],
 "metadata": {
  "colab": {
   "provenance": []
  },
  "kernelspec": {
   "display_name": "Python 3 (ipykernel)",
   "language": "python",
   "name": "python3"
  },
  "language_info": {
   "codemirror_mode": {
    "name": "ipython",
    "version": 3
   },
   "file_extension": ".py",
   "mimetype": "text/x-python",
   "name": "python",
   "nbconvert_exporter": "python",
   "pygments_lexer": "ipython3",
   "version": "3.9.7"
  }
 },
 "nbformat": 4,
 "nbformat_minor": 1
}
